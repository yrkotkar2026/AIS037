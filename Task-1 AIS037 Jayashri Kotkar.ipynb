{
 "cells": [
  {
   "cell_type": "code",
   "execution_count": null,
   "metadata": {},
   "outputs": [],
   "source": [
    "Python Exercise No: 1\n",
    "Subject:Data types, Operatorsand Input and Output in python"
   ]
  },
  {
   "cell_type": "code",
   "execution_count": null,
   "metadata": {},
   "outputs": [],
   "source": [
    "1. What is variable? And rules to declare a variable in python?\n",
    "ans:-Variables in python are nothing but the memory location where we can store data values. for example: a=20 here a is varibale and 20 is the data value. We have assigned the value 20 to the variable\n",
    "\n",
    "*rules to declare a variable in python:\n",
    "1.A variable name must start with a letter or the underscore character.\n",
    "2.A variable name cannot start with a number and special character(@,#) are not allowed."
   ]
  },
  {
   "cell_type": "code",
   "execution_count": null,
   "metadata": {},
   "outputs": [],
   "source": [
    "2. What are the primitive built-in types in python?\n",
    "ans:Python has four primitive types: integers, floats, booleans and strings."
   ]
  },
  {
   "cell_type": "code",
   "execution_count": null,
   "metadata": {},
   "outputs": [],
   "source": [
    "3. What is the mutable and immutable object in Python, Which data types are immutable in Python?\n",
    "ans:A mutable object can be changed after it is created, and an immutable object can not be change after it is created. Number,String and Tuple are immutable datatypes in Python."
   ]
  },
  {
   "cell_type": "code",
   "execution_count": null,
   "metadata": {},
   "outputs": [],
   "source": [
    "4. How to get the length of the string?\n",
    "ans:we get the length of the name by using len() function. for example: name = \"Notebook\" "
   ]
  },
  {
   "cell_type": "code",
   "execution_count": 1,
   "metadata": {},
   "outputs": [
    {
     "name": "stdout",
     "output_type": "stream",
     "text": [
      "8\n"
     ]
    }
   ],
   "source": [
    "name=\"Notebook\"\n",
    "print(len(name))"
   ]
  },
  {
   "cell_type": "code",
   "execution_count": null,
   "metadata": {},
   "outputs": [],
   "source": [
    "5. Which are the Relational Operators and their used in python?\n",
    "ans:(> Greater than,>= Greater than or equal to, <= Less than or equal to, == Equals ,!= Not equal to) are the Relational Operators in python. Relational Operators are used to compare the two quantities so that we can understand whether two values are same or which one is bigger or which one is lesser."
   ]
  },
  {
   "cell_type": "code",
   "execution_count": null,
   "metadata": {},
   "outputs": [],
   "source": [
    "6. What is the result of float(5), 10>=\"9\", 10**2, len (\"basic python\")?\n",
    "ans:The result of float(5) is 5.0 # to get accurate value \n",
    "    The result of 10>=\"9\" is false # '>=' not supported string and int \n",
    "    The result of 10**2 is 100 # is used for power \n",
    "    The result of len(\"basic python\") is 12 # it include space in count."
   ]
  },
  {
   "cell_type": "code",
   "execution_count": null,
   "metadata": {},
   "outputs": [],
   "source": [
    "7. What is meant by input and output? Which function is used to display output in python?\n",
    "ans:The data given to the computer is called input. The result returned by the computer are called output. Python provides the print() fuction to display output."
   ]
  },
  {
   "cell_type": "code",
   "execution_count": null,
   "metadata": {},
   "outputs": [],
   "source": [
    "8. Convert any integer number into float, string, and convert float into string, integer Convert string into float, integer\n",
    "ans:"
   ]
  },
  {
   "cell_type": "code",
   "execution_count": 2,
   "metadata": {},
   "outputs": [
    {
     "name": "stdout",
     "output_type": "stream",
     "text": [
      "78.0 <class 'float'>\n",
      "78 <class 'str'>\n"
     ]
    }
   ],
   "source": [
    "#convert integer number into float,string\n",
    "a=78\n",
    "b=float(a)\n",
    "c=str(a)\n",
    "print(b,type(b))\n",
    "print(c,type(c))"
   ]
  },
  {
   "cell_type": "code",
   "execution_count": 3,
   "metadata": {},
   "outputs": [
    {
     "name": "stdout",
     "output_type": "stream",
     "text": [
      "90 <class 'int'>\n",
      "90.5 <class 'str'>\n"
     ]
    }
   ],
   "source": [
    "#convert float into string, integer\n",
    "a=90.5\n",
    "b=int(a)\n",
    "print(b,type(b))\n",
    "c=90.5\n",
    "d=str(c)\n",
    "print(d,type(d))"
   ]
  },
  {
   "cell_type": "code",
   "execution_count": 4,
   "metadata": {},
   "outputs": [
    {
     "name": "stdout",
     "output_type": "stream",
     "text": [
      "81 <class 'int'>\n",
      "81.0 <class 'float'>\n"
     ]
    }
   ],
   "source": [
    "#Convert string into float, integer\n",
    "a='81'\n",
    "b=int(a)\n",
    "print(b,type(b))\n",
    "d=float(a)\n",
    "print(d,type(d))"
   ]
  },
  {
   "cell_type": "code",
   "execution_count": 11,
   "metadata": {},
   "outputs": [
    {
     "name": "stdout",
     "output_type": "stream",
     "text": [
      "Object `user` not found.\n"
     ]
    }
   ],
   "source": [
    "9. Takeinteger number using input function from user?"
   ]
  },
  {
   "cell_type": "code",
   "execution_count": 12,
   "metadata": {},
   "outputs": [
    {
     "name": "stdout",
     "output_type": "stream",
     "text": [
      "enter a value67\n",
      "integer number is 67\n"
     ]
    }
   ],
   "source": [
    "num1=int(input(\"enter a value\"))\n",
    "print(\"integer number is\",num1)"
   ]
  },
  {
   "cell_type": "code",
   "execution_count": null,
   "metadata": {},
   "outputs": [],
   "source": [
    "10. Taketwo numberusing input functionand find their sum?\n",
    "ans:"
   ]
  },
  {
   "cell_type": "code",
   "execution_count": null,
   "metadata": {},
   "outputs": [],
   "source": [
    "num1=float(input(\"21\"))\n",
    "num2=float(input(\"87\"))\n",
    "sum=num1+num2\n",
    "print(\"sum of two number is\",sum)"
   ]
  },
  {
   "cell_type": "code",
   "execution_count": null,
   "metadata": {},
   "outputs": [],
   "source": [
    "11. Write a python program to accept two numberusing input functionand use all the arithmetic operators?"
   ]
  },
  {
   "cell_type": "code",
   "execution_count": null,
   "metadata": {},
   "outputs": [],
   "source": [
    "a=int(input(\"enter a value\"))\n",
    "b=int(input(\"enter a value\"))\n",
    "sum=a+b\n",
    "sub=a-b\n",
    "mult=a*b\n",
    "divi=a/b\n",
    "c=a%b             #it gives remainder\n",
    "d=a//b\n",
    "print(\"\"\"{},{},{},{},{},{}\"\"\".format(sum,sub,mult,divi,c,d))"
   ]
  },
  {
   "cell_type": "code",
   "execution_count": null,
   "metadata": {},
   "outputs": [],
   "source": [
    "12. Check whether two numbers are equal or not using identity operator?"
   ]
  },
  {
   "cell_type": "code",
   "execution_count": null,
   "metadata": {},
   "outputs": [],
   "source": [
    "#is and is not are identity operator\n",
    "a=10\n",
    "b=20\n",
    "print(\"a,b:\",a,b)\n",
    "a is not b       "
   ]
  },
  {
   "cell_type": "code",
   "execution_count": null,
   "metadata": {},
   "outputs": [],
   "source": [
    "13. Write a python program to check whether two string are equal or not using comparisonoperator?\n"
   ]
  },
  {
   "cell_type": "code",
   "execution_count": 7,
   "metadata": {},
   "outputs": [
    {
     "data": {
      "text/plain": [
       "False"
      ]
     },
     "execution_count": 7,
     "metadata": {},
     "output_type": "execute_result"
    }
   ],
   "source": [
    "str1=\"python\"             #Python is case sensitive language hence \"P\"(capital) and \"p\"(small) letters are different..\n",
    "str2=\"Python\"\n",
    "str1==str2   "
   ]
  },
  {
   "cell_type": "code",
   "execution_count": null,
   "metadata": {},
   "outputs": [],
   "source": [
    "14. Assign same value to three variable name a, b and c using one line command?"
   ]
  },
  {
   "cell_type": "code",
   "execution_count": 9,
   "metadata": {},
   "outputs": [
    {
     "name": "stdout",
     "output_type": "stream",
     "text": [
      "18 18 18\n"
     ]
    }
   ],
   "source": [
    "a=b=c=18\n",
    "print(a,b,c)"
   ]
  },
  {
   "cell_type": "code",
   "execution_count": 10,
   "metadata": {},
   "outputs": [
    {
     "name": "stdout",
     "output_type": "stream",
     "text": [
      "a,b,c: 21 21 21\n",
      "21,21,21\n"
     ]
    }
   ],
   "source": [
    "a=b=c=21\n",
    "print(\"a,b,c:\",a,b,c)\n",
    "print(\"{},{},{}\".format(a,b,c))          #we can print three varible in one line command in different way."
   ]
  },
  {
   "cell_type": "code",
   "execution_count": null,
   "metadata": {},
   "outputs": [],
   "source": [
    "15.How to print address of variables in python?"
   ]
  },
  {
   "cell_type": "code",
   "execution_count": 13,
   "metadata": {},
   "outputs": [
    {
     "name": "stdout",
     "output_type": "stream",
     "text": [
      "1874410784\n",
      "3492416\n"
     ]
    }
   ],
   "source": [
    "a=67          \n",
    "str=\"class\"\n",
    "print(id(a))         #by using id() function we get ad.dress of variables in python\n",
    "print(id(str)) "
   ]
  },
  {
   "cell_type": "code",
   "execution_count": null,
   "metadata": {},
   "outputs": [],
   "source": [
    "16. Introduction of python? Foreg, invention, version and installation?"
   ]
  },
  {
   "cell_type": "code",
   "execution_count": null,
   "metadata": {},
   "outputs": [],
   "source": [
    "Ans-Python is a free, open-source,interpreted, high-level, general-purpose programming language. python is developed by Guido van Rossum. Guido van Rossum started implementing Python in 1989."
   ]
  }
 ],
 "metadata": {
  "kernelspec": {
   "display_name": "Python 3",
   "language": "python",
   "name": "python3"
  },
  "language_info": {
   "codemirror_mode": {
    "name": "ipython",
    "version": 3
   },
   "file_extension": ".py",
   "mimetype": "text/x-python",
   "name": "python",
   "nbconvert_exporter": "python",
   "pygments_lexer": "ipython3",
   "version": "3.7.0"
  }
 },
 "nbformat": 4,
 "nbformat_minor": 4
}
