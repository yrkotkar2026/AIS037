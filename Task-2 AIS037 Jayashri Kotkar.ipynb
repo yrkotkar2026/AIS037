{
 "cells": [
  {
   "cell_type": "code",
   "execution_count": null,
   "metadata": {},
   "outputs": [],
   "source": [
    "Python Exercise No:2\n",
    "Subject:Arrays and String in python"
   ]
  },
  {
   "cell_type": "code",
   "execution_count": null,
   "metadata": {},
   "outputs": [],
   "source": [
    "1. What is an array?\n",
    "ans: An array is an object that stores a group of elements or (values) of same datatypes. Arrays can store only one type of data. for example - integer type value or string or character type values.\n",
    "\n",
    "2. What is difference between array and list?\n",
    "ans: List is similar to an array that consists of group of elements.A list can stores a group of elements of different datatypes.List do not have a fixed size.\n",
    "An array is an object that stores a group of elements or (values) of same datatypes. Array have a fixed sized.\n",
    "\n",
    "3. How to change the shape of an array?\n",
    "ans: We can used reshape() function to change the shape of an array. for example- arr = arange(10)\n"
   ]
  },
  {
   "cell_type": "code",
   "execution_count": 1,
   "metadata": {},
   "outputs": [
    {
     "name": "stdout",
     "output_type": "stream",
     "text": [
      "[ 0  1  2  3  4  5  6  7  8  9 10 11 12 13 14 15 16 17 18 19 20 21 22 23\n",
      " 24 25 26 27 28 29 30 31 32 33 34 35 36 37 38 39 40 41 42 43 44 45 46 47\n",
      " 48 49 50 51 52 53 54 55 56 57 58 59 60 61 62 63 64 65 66 67 68 69 70 71\n",
      " 72 73 74 75 76 77 78 79 80 81 82 83 84 85 86 87 88 89 90 91 92 93 94 95\n",
      " 96 97 98 99]\n"
     ]
    }
   ],
   "source": [
    "import numpy as np\n",
    "arr = np.arange(100)\n",
    "print(arr)"
   ]
  },
  {
   "cell_type": "code",
   "execution_count": null,
   "metadata": {},
   "outputs": [],
   "source": [
    "4. What does the name.strip () do?\n",
    "ans: The strip() fuction is uesd to remove the space of a string from both left as well as right side."
   ]
  },
  {
   "cell_type": "code",
   "execution_count": 4,
   "metadata": {},
   "outputs": [
    {
     "data": {
      "text/plain": [
       "'karishma'"
      ]
     },
     "execution_count": 4,
     "metadata": {},
     "output_type": "execute_result"
    }
   ],
   "source": [
    "a=\" karishma \"\n",
    "a.strip()"
   ]
  },
  {
   "cell_type": "code",
   "execution_count": null,
   "metadata": {},
   "outputs": [],
   "source": [
    "5. When we use triple single or triple double quotes to define a string?\n",
    "ans: When we want to display the paragraph or to print multiple lines then we use single (''' ''') or double (\"\"\" \"\"\") triple quotes."
   ]
  },
  {
   "cell_type": "code",
   "execution_count": null,
   "metadata": {},
   "outputs": [],
   "source": [
    "6. Create a character type array?"
   ]
  },
  {
   "cell_type": "code",
   "execution_count": 5,
   "metadata": {},
   "outputs": [
    {
     "name": "stdout",
     "output_type": "stream",
     "text": [
      "['a' 'b' 'c' 'd']\n"
     ]
    },
    {
     "data": {
      "text/plain": [
       "numpy.ndarray"
      ]
     },
     "execution_count": 5,
     "metadata": {},
     "output_type": "execute_result"
    }
   ],
   "source": [
    "import numpy as np\n",
    "a=np.array(['a','b','c','d'])\n",
    "print(a)\n",
    "type(a)"
   ]
  },
  {
   "cell_type": "code",
   "execution_count": null,
   "metadata": {},
   "outputs": [],
   "source": [
    "7. Create a “hello”string and access the string character \"ll\" in python?"
   ]
  },
  {
   "cell_type": "code",
   "execution_count": 6,
   "metadata": {},
   "outputs": [
    {
     "name": "stdout",
     "output_type": "stream",
     "text": [
      "hello\n",
      "ll\n"
     ]
    }
   ],
   "source": [
    "m=\"hello\"\n",
    "print(m)\n",
    "print(m[2:4])"
   ]
  },
  {
   "cell_type": "code",
   "execution_count": null,
   "metadata": {},
   "outputs": [],
   "source": [
    "8. Create an array to get largest and smallest number using minimum and maximum function?"
   ]
  },
  {
   "cell_type": "code",
   "execution_count": 8,
   "metadata": {},
   "outputs": [
    {
     "name": "stdout",
     "output_type": "stream",
     "text": [
      "[12 14 67 89 79]\n",
      "12\n",
      "89\n"
     ]
    }
   ],
   "source": [
    "a=np.array([12,14,67,89,79])\n",
    "print(a)\n",
    "b=min(a)\n",
    "print(b)\n",
    "c=max(a)\n",
    "print(c)"
   ]
  },
  {
   "cell_type": "code",
   "execution_count": null,
   "metadata": {},
   "outputs": [],
   "source": [
    "9. If name is “core python”then access the \"python\" from name and reverse \"python\" using slicing?"
   ]
  },
  {
   "cell_type": "code",
   "execution_count": 9,
   "metadata": {},
   "outputs": [
    {
     "name": "stdout",
     "output_type": "stream",
     "text": [
      "python\n",
      "nohtyp\n"
     ]
    }
   ],
   "source": [
    "name=\"core python\"\n",
    "a=name[5:11]\n",
    "print(a)\n",
    "b=name[-1:-7:-1]\n",
    "print(b)"
   ]
  },
  {
   "cell_type": "code",
   "execution_count": null,
   "metadata": {},
   "outputs": [],
   "source": [
    "10. Create an array of integer type and add element 12 using append method and remove one element using remove methods"
   ]
  },
  {
   "cell_type": "code",
   "execution_count": 13,
   "metadata": {},
   "outputs": [
    {
     "name": "stdout",
     "output_type": "stream",
     "text": [
      "array('i', [8, 32, 2, 12])\n"
     ]
    }
   ],
   "source": [
    "from array import *\n",
    "arr1=array(\"i\",[8,3,4,32,2])\n",
    "arr1.append(12)                           #add element 12 using append method\n",
    "arr1.remove(3)                              #delete element using remove method\n",
    "arr1.remove(4)\n",
    "print(arr1)"
   ]
  },
  {
   "cell_type": "code",
   "execution_count": null,
   "metadata": {},
   "outputs": [],
   "source": [
    "11. Create a single dimensional and 3 dimensional array using numpy?"
   ]
  },
  {
   "cell_type": "code",
   "execution_count": 17,
   "metadata": {},
   "outputs": [
    {
     "name": "stdout",
     "output_type": "stream",
     "text": [
      "[2 3 6]\n",
      "[[4 5 6]\n",
      " [2 3 6]\n",
      " [1 2 6]]\n"
     ]
    }
   ],
   "source": [
    "import numpy as np\n",
    "a1=np.array([2,3,6])                                      #arr1 is single dimensional array\n",
    "a2=np.array([[4,5,6],[2,3,6],[1,2,6]])                    #arr2 is 3 dimensional array\n",
    "print(a1)\n",
    "print(a2)"
   ]
  },
  {
   "cell_type": "code",
   "execution_count": null,
   "metadata": {},
   "outputs": [],
   "source": [
    "12. Create a “Programiz”string and convert the string into upper, lower case? And replace given string by “program”using replacemethod?"
   ]
  },
  {
   "cell_type": "code",
   "execution_count": 18,
   "metadata": {},
   "outputs": [
    {
     "name": "stdout",
     "output_type": "stream",
     "text": [
      "PROGRAMIZ\n",
      "programiz\n",
      "program\n"
     ]
    }
   ],
   "source": [
    "str=\"Programiz\"\n",
    "a=str.upper()\n",
    "b=str.lower()\n",
    "c=str.replace(\"Programiz\",\"program\")\n",
    "print(a)\n",
    "print(b)\n",
    "print(c)"
   ]
  },
  {
   "cell_type": "code",
   "execution_count": null,
   "metadata": {},
   "outputs": [],
   "source": [
    "13. Create a two array one using linspace and another using arange function and then subtract array1 from array 2?"
   ]
  },
  {
   "cell_type": "code",
   "execution_count": 19,
   "metadata": {},
   "outputs": [
    {
     "name": "stdout",
     "output_type": "stream",
     "text": [
      "[ 2.  4.  6.  8. 10.]\n",
      "[12 13 14 15 16]\n",
      "[10.  9.  8.  7.  6.]\n"
     ]
    }
   ],
   "source": [
    "from numpy import *\n",
    "arr1=np.linspace(2,10,5)         #we create 5 numbers between 2 to 10\n",
    "print(arr1)\n",
    "arr2=np.arange(12,17,1)         #we create  5 number from 12 to 16 with 1 step\n",
    "print(arr2)\n",
    "sub=arr2-arr1\n",
    "print(sub)"
   ]
  },
  {
   "cell_type": "code",
   "execution_count": null,
   "metadata": {},
   "outputs": [],
   "source": [
    "14. Create a “happy new year”string and then separate this string by (space) \",”?"
   ]
  },
  {
   "cell_type": "code",
   "execution_count": 20,
   "metadata": {},
   "outputs": [
    {
     "name": "stdout",
     "output_type": "stream",
     "text": [
      "['happy', 'new', 'year']\n",
      "['happy', 'new', 'year']\n"
     ]
    }
   ],
   "source": [
    "str1=\"happy new year\"\n",
    "d=str1.split(\" \")                #Here we separate str1 by(space) \" \" .\n",
    "print(d)\n",
    "str2=\"happy:new:year\"\n",
    "d=str2.split(\":\")               #Here we separate str2 by(colon) \":\" .\n",
    "print(d)"
   ]
  },
  {
   "cell_type": "code",
   "execution_count": null,
   "metadata": {},
   "outputs": [],
   "source": [
    "15. Create two string and check whether one string present in another string using membership operator?"
   ]
  },
  {
   "cell_type": "code",
   "execution_count": 21,
   "metadata": {},
   "outputs": [
    {
     "name": "stdout",
     "output_type": "stream",
     "text": [
      "True\n",
      "False\n"
     ]
    }
   ],
   "source": [
    "#in and not in are membership operators in python.\n",
    "str1=\"she is a girl\"\n",
    "str2=\"girl\"\n",
    "print(str2 in str1)\n",
    "print(str2 not in str1)"
   ]
  },
  {
   "cell_type": "code",
   "execution_count": null,
   "metadata": {},
   "outputs": [],
   "source": []
  }
 ],
 "metadata": {
  "kernelspec": {
   "display_name": "Python 3",
   "language": "python",
   "name": "python3"
  },
  "language_info": {
   "codemirror_mode": {
    "name": "ipython",
    "version": 3
   },
   "file_extension": ".py",
   "mimetype": "text/x-python",
   "name": "python",
   "nbconvert_exporter": "python",
   "pygments_lexer": "ipython3",
   "version": "3.7.0"
  }
 },
 "nbformat": 4,
 "nbformat_minor": 4
}
