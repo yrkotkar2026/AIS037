{
 "cells": [
  {
   "cell_type": "code",
   "execution_count": 1,
   "metadata": {},
   "outputs": [],
   "source": [
    "import numpy as np\n",
    "import matplotlib.pyplot as plt\n",
    "import pandas as pd"
   ]
  },
  {
   "cell_type": "code",
   "execution_count": 2,
   "metadata": {},
   "outputs": [
    {
     "name": "stdout",
     "output_type": "stream",
     "text": [
      "     PassengerId  Pclass     Sex   Age  SibSp  Parch      Fare Embarked\n",
      "0            892       3    male  34.5      0      0    7.8292        Q\n",
      "1            893       3  female  47.0      1      0    7.0000        S\n",
      "2            894       2    male  62.0      0      0    9.6875        Q\n",
      "3            895       3    male  27.0      0      0    8.6625        S\n",
      "4            896       3  female  22.0      1      1   12.2875        S\n",
      "..           ...     ...     ...   ...    ...    ...       ...      ...\n",
      "413         1305       3    male   NaN      0      0    8.0500        S\n",
      "414         1306       1  female  39.0      0      0  108.9000        C\n",
      "415         1307       3    male  38.5      0      0    7.2500        S\n",
      "416         1308       3    male   NaN      0      0    8.0500        S\n",
      "417         1309       3    male   NaN      1      1   22.3583        C\n",
      "\n",
      "[418 rows x 8 columns]\n",
      "     PassengerId  Pclass     Sex   Age  SibSp  Parch     Fare Embarked\n",
      "0              1       3    male  22.0      1      0   7.2500        S\n",
      "1              2       1  female  38.0      1      0  71.2833        C\n",
      "2              3       3  female  26.0      0      0   7.9250        S\n",
      "3              4       1  female  35.0      1      0  53.1000        S\n",
      "4              5       3    male  35.0      0      0   8.0500        S\n",
      "..           ...     ...     ...   ...    ...    ...      ...      ...\n",
      "886          887       2    male  27.0      0      0  13.0000        S\n",
      "887          888       1  female  19.0      0      0  30.0000        S\n",
      "888          889       3  female   NaN      1      2  23.4500        S\n",
      "889          890       1    male  26.0      0      0  30.0000        C\n",
      "890          891       3    male  32.0      0      0   7.7500        Q\n",
      "\n",
      "[891 rows x 8 columns]\n"
     ]
    }
   ],
   "source": [
    "dataset = pd.read_csv('train.csv')\n",
    "testset = pd.read_csv(\"test.csv\").drop(['Name','Ticket','Cabin'],axis=1) \n",
    "\n",
    "X_test = testset\n",
    "\n",
    "X_train = dataset.drop(['Survived','Name','Ticket','Cabin'],axis=1)\n",
    "y_train = dataset['Survived']\n",
    "\n",
    "print(X_test)\n",
    "print(X_train)\n"
   ]
  },
  {
   "cell_type": "code",
   "execution_count": 3,
   "metadata": {},
   "outputs": [
    {
     "name": "stdout",
     "output_type": "stream",
     "text": [
      "     PassengerId  Pclass     Sex       Age  SibSp  Parch      Fare Embarked\n",
      "0            892       3    male  34.50000      0      0    7.8292        Q\n",
      "1            893       3  female  47.00000      1      0    7.0000        S\n",
      "2            894       2    male  62.00000      0      0    9.6875        Q\n",
      "3            895       3    male  27.00000      0      0    8.6625        S\n",
      "4            896       3  female  22.00000      1      1   12.2875        S\n",
      "..           ...     ...     ...       ...    ...    ...       ...      ...\n",
      "413         1305       3    male  30.27259      0      0    8.0500        S\n",
      "414         1306       1  female  39.00000      0      0  108.9000        C\n",
      "415         1307       3    male  38.50000      0      0    7.2500        S\n",
      "416         1308       3    male  30.27259      0      0    8.0500        S\n",
      "417         1309       3    male  30.27259      1      1   22.3583        C\n",
      "\n",
      "[418 rows x 8 columns]\n",
      "     PassengerId  Pclass     Sex        Age  SibSp  Parch     Fare Embarked\n",
      "0              1       3    male  22.000000      1      0   7.2500        S\n",
      "1              2       1  female  38.000000      1      0  71.2833        C\n",
      "2              3       3  female  26.000000      0      0   7.9250        S\n",
      "3              4       1  female  35.000000      1      0  53.1000        S\n",
      "4              5       3    male  35.000000      0      0   8.0500        S\n",
      "..           ...     ...     ...        ...    ...    ...      ...      ...\n",
      "886          887       2    male  27.000000      0      0  13.0000        S\n",
      "887          888       1  female  19.000000      0      0  30.0000        S\n",
      "888          889       3  female  29.699118      1      2  23.4500        S\n",
      "889          890       1    male  26.000000      0      0  30.0000        C\n",
      "890          891       3    male  32.000000      0      0   7.7500        Q\n",
      "\n",
      "[891 rows x 8 columns]\n"
     ]
    }
   ],
   "source": [
    "from sklearn.impute import SimpleImputer\n",
    "\n",
    "imputer = SimpleImputer(missing_values=np.nan, strategy='mean')\n",
    "\n",
    "imputer.fit(X_train[['Age']])\n",
    "X_train['Age'] = imputer.transform(X_train[['Age']])\n",
    "\n",
    "imputer.fit(X_test[['Age']])\n",
    "X_test['Age'] = imputer.transform(X_test[['Age']])\n",
    "\n",
    "imputer.fit(X_test[['Fare']])\n",
    "X_test['Fare'] = imputer.transform(X_test[['Fare']])\n",
    "\n",
    "\n",
    "imputer_text = SimpleImputer(missing_values=np.nan, strategy='most_frequent')\n",
    "\n",
    "imputer_text.fit(X_train[['Embarked']])\n",
    "X_train['Embarked'] = imputer_text.transform(X_train[['Embarked']])\n",
    "\n",
    "imputer_text.fit(X_test[['Embarked']])\n",
    "X_test['Embarked'] = imputer_text.transform(X_test[['Embarked']])\n",
    "\n",
    "print(X_test)\n",
    "print(X_train)"
   ]
  },
  {
   "cell_type": "code",
   "execution_count": 4,
   "metadata": {},
   "outputs": [
    {
     "name": "stdout",
     "output_type": "stream",
     "text": [
      "[[ 0.      0.      1.     ...  0.      0.      7.8292]\n",
      " [ 0.      0.      1.     ...  1.      0.      7.    ]\n",
      " [ 0.      1.      0.     ...  0.      0.      9.6875]\n",
      " ...\n",
      " [ 0.      0.      1.     ...  0.      0.      7.25  ]\n",
      " [ 0.      0.      1.     ...  0.      0.      8.05  ]\n",
      " [ 0.      0.      1.     ...  1.      1.     22.3583]]\n"
     ]
    }
   ],
   "source": [
    "from sklearn.compose import ColumnTransformer\n",
    "from sklearn.preprocessing import OneHotEncoder\n",
    "\n",
    "ct = ColumnTransformer(transformers=[('encoder', OneHotEncoder(), [1,2,7])], remainder='passthrough')\n",
    "X_train = np.array(ct.fit_transform(X_train))\n",
    "X_test = np.array(ct.fit_transform(X_test))\n",
    "\n",
    "print(X_test)"
   ]
  },
  {
   "cell_type": "code",
   "execution_count": 5,
   "metadata": {},
   "outputs": [
    {
     "name": "stderr",
     "output_type": "stream",
     "text": [
      "c:\\users\\win7\\appdata\\local\\programs\\python\\python37-32\\lib\\site-packages\\sklearn\\linear_model\\_logistic.py:764: ConvergenceWarning: lbfgs failed to converge (status=1):\n",
      "STOP: TOTAL NO. of ITERATIONS REACHED LIMIT.\n",
      "\n",
      "Increase the number of iterations (max_iter) or scale the data as shown in:\n",
      "    https://scikit-learn.org/stable/modules/preprocessing.html\n",
      "Please also refer to the documentation for alternative solver options:\n",
      "    https://scikit-learn.org/stable/modules/linear_model.html#logistic-regression\n",
      "  extra_warning_msg=_LOGISTIC_SOLVER_CONVERGENCE_MSG)\n"
     ]
    },
    {
     "data": {
      "text/plain": [
       "LogisticRegression()"
      ]
     },
     "execution_count": 5,
     "metadata": {},
     "output_type": "execute_result"
    }
   ],
   "source": [
    "from sklearn.linear_model import LogisticRegression\n",
    "classifier = LogisticRegression()\n",
    "classifier.fit(X_train, y_train)"
   ]
  },
  {
   "cell_type": "code",
   "execution_count": 6,
   "metadata": {},
   "outputs": [],
   "source": [
    "y_pred = classifier.predict(X_test)"
   ]
  },
  {
   "cell_type": "code",
   "execution_count": 7,
   "metadata": {},
   "outputs": [],
   "source": [
    "output = pd.DataFrame({'PassengerId': testset.PassengerId, 'Survived': y_pred})\n",
    "output.to_csv('my_submission.csv', index=False)"
   ]
  },
  {
   "cell_type": "code",
   "execution_count": null,
   "metadata": {},
   "outputs": [],
   "source": []
  }
 ],
 "metadata": {
  "kernelspec": {
   "display_name": "Python 3",
   "language": "python",
   "name": "python3"
  },
  "language_info": {
   "codemirror_mode": {
    "name": "ipython",
    "version": 3
   },
   "file_extension": ".py",
   "mimetype": "text/x-python",
   "name": "python",
   "nbconvert_exporter": "python",
   "pygments_lexer": "ipython3",
   "version": "3.7.0"
  }
 },
 "nbformat": 4,
 "nbformat_minor": 4
}
