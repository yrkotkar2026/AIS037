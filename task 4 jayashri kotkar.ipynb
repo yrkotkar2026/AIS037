{
 "cells": [
  {
   "cell_type": "code",
   "execution_count": null,
   "metadata": {},
   "outputs": [],
   "source": [
    "Python Exercise No: 4\n",
    "Subject:Dictionary and Set in python"
   ]
  },
  {
   "cell_type": "code",
   "execution_count": null,
   "metadata": {},
   "outputs": [],
   "source": [
    "1. What is meant by dictionary?\n",
    "ans:A dictionary represents a group of elements arranged in the form of key-value pairs.In the dictionary, the first element is considered as 'key' and next element is taken as its value.the key and its value are separated by a colon(:). All the key-value paires are inserted in curly braces {}.\n",
    "  "
   ]
  },
  {
   "cell_type": "code",
   "execution_count": null,
   "metadata": {},
   "outputs": [],
   "source": [
    "2. What is difference between dictionary and set?\n",
    "ans:A dictionary represents a group of elements arranged in the form of key-value pairs.In dictionary the key and its value are separated by a colon(\\\":\\\") and keys of dictionary are unique. "
   ]
  },
  {
   "cell_type": "code",
   "execution_count": null,
   "metadata": {},
   "outputs": [],
   "source": [
    "3. Create a python set of mixed data types"
   ]
  },
  {
   "cell_type": "code",
   "execution_count": 21,
   "metadata": {},
   "outputs": [
    {
     "name": "stdout",
     "output_type": "stream",
     "text": [
      "{1, 2, 'j', 4.5, 'a', 'rat', 8.9}\n"
     ]
    }
   ],
   "source": [
    "A={2,1,\"a\",\"j\",\"rat\",4.5,8.9}\n",
    "print(A)"
   ]
  },
  {
   "cell_type": "code",
   "execution_count": null,
   "metadata": {},
   "outputs": [],
   "source": [
    "4. Create a Dictionary of employee name, Id and salary"
   ]
  },
  {
   "cell_type": "code",
   "execution_count": 23,
   "metadata": {},
   "outputs": [
    {
     "name": "stdout",
     "output_type": "stream",
     "text": [
      "{'name': ['rupa', 'jayu'], 'Id': [15, 16], 'salary': [1000, 1200]}\n"
     ]
    }
   ],
   "source": [
    "d={'name':[\"rupa\",\"jayu\"],'Id':[15,16],'salary':[1000,1200]}\n",
    "print(d)"
   ]
  },
  {
   "cell_type": "code",
   "execution_count": null,
   "metadata": {},
   "outputs": [],
   "source": [
    "5. Display key-value pairs from dictionary using items () method"
   ]
  },
  {
   "cell_type": "code",
   "execution_count": 25,
   "metadata": {},
   "outputs": [
    {
     "name": "stdout",
     "output_type": "stream",
     "text": [
      "{'name': ['rupa', 'jayu'], 'Id': [15, 16], 'salary': [1000, 1200]}\n",
      "dict_items([('name', ['rupa', 'jayu']), ('Id', [15, 16]), ('salary', [1000, 1200])])\n"
     ]
    }
   ],
   "source": [
    "d={'name':[\"rupa\",\"jayu\"],'Id':[15,16],'salary':[1000,1200]}\n",
    "print(d)\n",
    "pair=d.items()\n",
    "print(pair)"
   ]
  },
  {
   "cell_type": "code",
   "execution_count": null,
   "metadata": {},
   "outputs": [],
   "source": [
    "6. Create a dictionary and access values of 2nd key from the dictionary"
   ]
  },
  {
   "cell_type": "code",
   "execution_count": 27,
   "metadata": {},
   "outputs": [
    {
     "name": "stdout",
     "output_type": "stream",
     "text": [
      "{'name': ['rupa', 'jayu'], 'Id': [15, 16], 'salary': [1000, 1200]}\n",
      "[15, 16]\n",
      "[15, 16]\n"
     ]
    }
   ],
   "source": [
    "d={'name':[\"rupa\",\"jayu\"],'Id':[15,16],'salary':[1000,1200]}\n",
    "print(d)\n",
    "print(d['Id'])\n",
    "print(d.get('Id'))"
   ]
  },
  {
   "cell_type": "code",
   "execution_count": null,
   "metadata": {},
   "outputs": [],
   "source": [
    "7. Create a dictionary and then print empty dictionary using clear() method"
   ]
  },
  {
   "cell_type": "code",
   "execution_count": 29,
   "metadata": {},
   "outputs": [
    {
     "name": "stdout",
     "output_type": "stream",
     "text": [
      "{'name': ['sachin', 'dhoni'], 'scores': [10, 18]}\n",
      "{}\n"
     ]
    }
   ],
   "source": [
    "dict={\"name\":[\"sachin\",\"dhoni\"],\"scores\":[10,18]}\n",
    "print(dict)\n",
    "a=dict.clear()\n",
    "print(dict)"
   ]
  },
  {
   "cell_type": "code",
   "execution_count": null,
   "metadata": {},
   "outputs": [],
   "source": [
    "8.Create a Dictionary of name, roll no,marks,gender and access keys from the dictionary using key () method"
   ]
  },
  {
   "cell_type": "code",
   "execution_count": 31,
   "metadata": {},
   "outputs": [
    {
     "name": "stdout",
     "output_type": "stream",
     "text": [
      "dict_keys(['name', 'roll no', 'marks', 'gender'])\n"
     ]
    }
   ],
   "source": [
    "d={'name':[\"A\",\"B\"],\"roll no\":[2,3],\"marks\":[88,69],\"gender\":['M','F']}\n",
    "c=d.keys()\n",
    "print(c)"
   ]
  },
  {
   "cell_type": "code",
   "execution_count": null,
   "metadata": {},
   "outputs": [],
   "source": [
    "9. Takeset A for even and Bfor odd and print the union of two set"
   ]
  },
  {
   "cell_type": "code",
   "execution_count": 33,
   "metadata": {},
   "outputs": [
    {
     "name": "stdout",
     "output_type": "stream",
     "text": [
      "{1, 2, 3, 4, 5, 6, 7, 8}\n"
     ]
    }
   ],
   "source": [
    "A={2,4,6,8}\n",
    "B={1,3,5,7}\n",
    "print(A.union(B))"
   ]
  },
  {
   "cell_type": "code",
   "execution_count": null,
   "metadata": {},
   "outputs": [],
   "source": [
    "10. If A={1,2,3,4,5} and B={4,5,6,7,8} then find difference,  intersection of set A and B"
   ]
  },
  {
   "cell_type": "code",
   "execution_count": 35,
   "metadata": {},
   "outputs": [
    {
     "name": "stdout",
     "output_type": "stream",
     "text": [
      "{1, 2, 3}\n",
      "{4, 5}\n",
      "{1, 2, 3}\n",
      "{4, 5}\n"
     ]
    }
   ],
   "source": [
    "A={1,2,3,4,5}\n",
    "B={4,5,6,7,8}\n",
    "d=A-B\n",
    "print(d)\n",
    "i=A&B\n",
    "print(i)\n",
    "print(A.difference(B))\n",
    "print(A.intersection(B))"
   ]
  },
  {
   "cell_type": "code",
   "execution_count": null,
   "metadata": {},
   "outputs": [],
   "source": [
    "11. If set= {1, 2, 3, 5, 6} then add an element 4 in the set using add () function and remove 3 using discard () function"
   ]
  },
  {
   "cell_type": "code",
   "execution_count": 37,
   "metadata": {},
   "outputs": [
    {
     "name": "stdout",
     "output_type": "stream",
     "text": [
      "{1, 2, 4, 5, 6}\n"
     ]
    }
   ],
   "source": [
    "set= {1, 2, 3, 5, 6}\n",
    "set.add(4)\n",
    "set.discard(3)\n",
    "print(set)"
   ]
  },
  {
   "cell_type": "code",
   "execution_count": null,
   "metadata": {},
   "outputs": [],
   "source": [
    "12. Add 12,9,11 in the set A = {1, 2, 3, 5, 6} using update () function"
   ]
  },
  {
   "cell_type": "code",
   "execution_count": 39,
   "metadata": {},
   "outputs": [
    {
     "name": "stdout",
     "output_type": "stream",
     "text": [
      "{1, 2, 3, 5, 6, 9, 11, 12}\n"
     ]
    }
   ],
   "source": [
    "A = {1, 2, 3, 5, 6} \n",
    "A.update([12,9,11])\n",
    "print(A)"
   ]
  },
  {
   "cell_type": "code",
   "execution_count": null,
   "metadata": {},
   "outputs": [],
   "source": [
    "13. Create a set and print the sum of all the elements in the set"
   ]
  },
  {
   "cell_type": "code",
   "execution_count": 41,
   "metadata": {},
   "outputs": [
    {
     "name": "stdout",
     "output_type": "stream",
     "text": [
      "34\n"
     ]
    }
   ],
   "source": [
    "A={1,6,9,8,10}\n",
    "additon=sum(A)\n",
    "print(additon)"
   ]
  },
  {
   "cell_type": "code",
   "execution_count": null,
   "metadata": {},
   "outputs": [],
   "source": [
    "14. if myset={\"a\",\"p\",\"p\",\"l\",\"e\"}  then check whether a and ris in the set or not using membershipoperator"
   ]
  },
  {
   "cell_type": "code",
   "execution_count": 43,
   "metadata": {
    "scrolled": true
   },
   "outputs": [
    {
     "name": "stdout",
     "output_type": "stream",
     "text": [
      "True\n",
      "False\n",
      "False\n",
      "True\n"
     ]
    }
   ],
   "source": [
    "myset={\"a\",\"p\",\"p\",\"l\",\"e\"} \n",
    "print('a' in myset)\n",
    "print('r' in myset)\n",
    "print('a' not in myset)\n",
    "print('r' not in myset)"
   ]
  },
  {
   "cell_type": "code",
   "execution_count": null,
   "metadata": {},
   "outputs": [],
   "source": [
    "15.Create a dictionary of players name and runsin match and print keys and values in dictionary using for loop"
   ]
  },
  {
   "cell_type": "code",
   "execution_count": 45,
   "metadata": {},
   "outputs": [
    {
     "name": "stdout",
     "output_type": "stream",
     "text": [
      "name ['sachin', 'dhoni']\n",
      "scores [10, 8]\n"
     ]
    }
   ],
   "source": [
    "dict={\"name\":[\"sachin\",\"dhoni\"],\"scores\":[10,8]}\n",
    "for k,v in dict.items():\n",
    "    print(k,v)"
   ]
  },
  {
   "cell_type": "code",
   "execution_count": null,
   "metadata": {},
   "outputs": [],
   "source": []
  }
 ],
 "metadata": {
  "kernelspec": {
   "display_name": "Python 3",
   "language": "python",
   "name": "python3"
  },
  "language_info": {
   "codemirror_mode": {
    "name": "ipython",
    "version": 3
   },
   "file_extension": ".py",
   "mimetype": "text/x-python",
   "name": "python",
   "nbconvert_exporter": "python",
   "pygments_lexer": "ipython3",
   "version": "3.7.0"
  }
 },
 "nbformat": 4,
 "nbformat_minor": 4
}
